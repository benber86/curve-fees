{
 "cells": [
  {
   "cell_type": "code",
   "execution_count": 10,
   "id": "c3815daa",
   "metadata": {},
   "outputs": [],
   "source": [
    "import pandas as pd\n",
    "import requests\n",
    "import matplotlib.pyplot as plt\n",
    "\n",
    "plt.style.use('ggplot')"
   ]
  },
  {
   "cell_type": "code",
   "execution_count": 29,
   "id": "5d18d27a",
   "metadata": {},
   "outputs": [],
   "source": [
    "ENDPOINT = 'https://api.thegraph.com/subgraphs/name/convex-community/volume-%s-test'\n",
    "networks = ['mainnet','matic', 'arbitrum', 'avalanche', 'fantom']\n",
    "WEEK = 3600 * 24 * 7"
   ]
  },
  {
   "cell_type": "code",
   "execution_count": 12,
   "id": "96053349",
   "metadata": {},
   "outputs": [],
   "source": [
    "def grt_query(query, network):\n",
    "    r = requests.post(ENDPOINT % network, json={'query': query})\n",
    "    return r.json()['data']\n",
    "\n",
    "pd.set_option('display.float_format', lambda x: '%.4f' % x)"
   ]
  },
  {
   "cell_type": "code",
   "execution_count": 13,
   "id": "420d0b30",
   "metadata": {},
   "outputs": [],
   "source": [
    "fee_query = \"\"\"\n",
    "{ pools(first: 1000) {\n",
    "  dailyPoolSnapshots(first: 1000 orderBy: timestamp orderDirection: desc) {\n",
    "    timestamp\n",
    "    totalDailyFeesUSD\n",
    "  }\n",
    "}\n",
    "}\n",
    "\"\"\""
   ]
  },
  {
   "cell_type": "code",
   "execution_count": 52,
   "id": "d2bc9061",
   "metadata": {},
   "outputs": [],
   "source": [
    "def get_chain_data(network):\n",
    "    data = grt_query(fee_query, network)['pools']\n",
    "    c = [el for a in data for el in a['dailyPoolSnapshots']]\n",
    "    df = pd.DataFrame(c)\n",
    "    df['totalDailyFeesUSD'] = df['totalDailyFeesUSD'].astype(float)\n",
    "    df['timestamp'] = df['timestamp'].apply(lambda x: ((int(x) // WEEK) * WEEK))\n",
    "    df['timestamp'] = pd.to_datetime(df['timestamp'],unit='s')\n",
    "    df.columns = ['week', network]\n",
    "    df = df.groupby('week').sum()\n",
    "    return df"
   ]
  },
  {
   "cell_type": "code",
   "execution_count": 55,
   "id": "70aba34b",
   "metadata": {},
   "outputs": [],
   "source": [
    "res = []\n",
    "for network in networks:\n",
    "    res.append(get_chain_data(network))"
   ]
  },
  {
   "cell_type": "code",
   "execution_count": 58,
   "id": "e0cbc33e",
   "metadata": {},
   "outputs": [],
   "source": [
    "data = res[0]\n",
    "for i in range(len(res)-1):\n",
    "    data = pd.merge(data, res[i+1], how='outer',left_index=True,right_index=True)"
   ]
  },
  {
   "cell_type": "code",
   "execution_count": 59,
   "id": "577982c9",
   "metadata": {},
   "outputs": [
    {
     "data": {
      "text/html": [
       "<div>\n",
       "<style scoped>\n",
       "    .dataframe tbody tr th:only-of-type {\n",
       "        vertical-align: middle;\n",
       "    }\n",
       "\n",
       "    .dataframe tbody tr th {\n",
       "        vertical-align: top;\n",
       "    }\n",
       "\n",
       "    .dataframe thead th {\n",
       "        text-align: right;\n",
       "    }\n",
       "</style>\n",
       "<table border=\"1\" class=\"dataframe\">\n",
       "  <thead>\n",
       "    <tr style=\"text-align: right;\">\n",
       "      <th></th>\n",
       "      <th>mainnet</th>\n",
       "      <th>matic</th>\n",
       "      <th>arbitrum</th>\n",
       "      <th>avalanche</th>\n",
       "      <th>fantom</th>\n",
       "    </tr>\n",
       "    <tr>\n",
       "      <th>week</th>\n",
       "      <th></th>\n",
       "      <th></th>\n",
       "      <th></th>\n",
       "      <th></th>\n",
       "      <th></th>\n",
       "    </tr>\n",
       "  </thead>\n",
       "  <tbody>\n",
       "    <tr>\n",
       "      <th>2020-10-29</th>\n",
       "      <td>139380.2495</td>\n",
       "      <td>0.0000</td>\n",
       "      <td>0.0000</td>\n",
       "      <td>0.0000</td>\n",
       "      <td>0.0000</td>\n",
       "    </tr>\n",
       "    <tr>\n",
       "      <th>2020-11-05</th>\n",
       "      <td>295287.0187</td>\n",
       "      <td>0.0000</td>\n",
       "      <td>0.0000</td>\n",
       "      <td>0.0000</td>\n",
       "      <td>0.0000</td>\n",
       "    </tr>\n",
       "    <tr>\n",
       "      <th>2020-11-12</th>\n",
       "      <td>478040.1544</td>\n",
       "      <td>0.0000</td>\n",
       "      <td>0.0000</td>\n",
       "      <td>0.0000</td>\n",
       "      <td>0.0000</td>\n",
       "    </tr>\n",
       "    <tr>\n",
       "      <th>2020-11-19</th>\n",
       "      <td>366542.0986</td>\n",
       "      <td>0.0000</td>\n",
       "      <td>0.0000</td>\n",
       "      <td>0.0000</td>\n",
       "      <td>0.0000</td>\n",
       "    </tr>\n",
       "    <tr>\n",
       "      <th>2020-11-26</th>\n",
       "      <td>354029.4256</td>\n",
       "      <td>0.0000</td>\n",
       "      <td>0.0000</td>\n",
       "      <td>0.0000</td>\n",
       "      <td>0.0000</td>\n",
       "    </tr>\n",
       "    <tr>\n",
       "      <th>...</th>\n",
       "      <td>...</td>\n",
       "      <td>...</td>\n",
       "      <td>...</td>\n",
       "      <td>...</td>\n",
       "      <td>...</td>\n",
       "    </tr>\n",
       "    <tr>\n",
       "      <th>2022-07-07</th>\n",
       "      <td>689522.6594</td>\n",
       "      <td>0.0000</td>\n",
       "      <td>18230.6699</td>\n",
       "      <td>20323.6754</td>\n",
       "      <td>13327.6837</td>\n",
       "    </tr>\n",
       "    <tr>\n",
       "      <th>2022-07-14</th>\n",
       "      <td>1061345.4180</td>\n",
       "      <td>0.0000</td>\n",
       "      <td>32504.3938</td>\n",
       "      <td>21242.8862</td>\n",
       "      <td>15541.5071</td>\n",
       "    </tr>\n",
       "    <tr>\n",
       "      <th>2022-07-21</th>\n",
       "      <td>931444.2791</td>\n",
       "      <td>0.0000</td>\n",
       "      <td>33567.8554</td>\n",
       "      <td>18211.3186</td>\n",
       "      <td>15567.4473</td>\n",
       "    </tr>\n",
       "    <tr>\n",
       "      <th>2022-07-28</th>\n",
       "      <td>927228.1667</td>\n",
       "      <td>0.0000</td>\n",
       "      <td>30048.1979</td>\n",
       "      <td>17566.4539</td>\n",
       "      <td>14213.8817</td>\n",
       "    </tr>\n",
       "    <tr>\n",
       "      <th>2022-08-04</th>\n",
       "      <td>80547.2648</td>\n",
       "      <td>0.0000</td>\n",
       "      <td>3544.0252</td>\n",
       "      <td>2186.7955</td>\n",
       "      <td>1609.8030</td>\n",
       "    </tr>\n",
       "  </tbody>\n",
       "</table>\n",
       "<p>93 rows × 5 columns</p>\n",
       "</div>"
      ],
      "text/plain": [
       "                mainnet  matic   arbitrum  avalanche     fantom\n",
       "week                                                           \n",
       "2020-10-29  139380.2495 0.0000     0.0000     0.0000     0.0000\n",
       "2020-11-05  295287.0187 0.0000     0.0000     0.0000     0.0000\n",
       "2020-11-12  478040.1544 0.0000     0.0000     0.0000     0.0000\n",
       "2020-11-19  366542.0986 0.0000     0.0000     0.0000     0.0000\n",
       "2020-11-26  354029.4256 0.0000     0.0000     0.0000     0.0000\n",
       "...                 ...    ...        ...        ...        ...\n",
       "2022-07-07  689522.6594 0.0000 18230.6699 20323.6754 13327.6837\n",
       "2022-07-14 1061345.4180 0.0000 32504.3938 21242.8862 15541.5071\n",
       "2022-07-21  931444.2791 0.0000 33567.8554 18211.3186 15567.4473\n",
       "2022-07-28  927228.1667 0.0000 30048.1979 17566.4539 14213.8817\n",
       "2022-08-04   80547.2648 0.0000  3544.0252  2186.7955  1609.8030\n",
       "\n",
       "[93 rows x 5 columns]"
      ]
     },
     "execution_count": 59,
     "metadata": {},
     "output_type": "execute_result"
    }
   ],
   "source": [
    "subgraph_rev = data.fillna(0).sort_index()\n",
    "subgraph_rev"
   ]
  },
  {
   "cell_type": "code",
   "execution_count": 60,
   "id": "1e99e7a3",
   "metadata": {},
   "outputs": [
    {
     "data": {
      "text/plain": [
       "mainnet     213882711.0444\n",
       "matic         9079348.1558\n",
       "arbitrum      2360301.1539\n",
       "avalanche     8412869.4064\n",
       "fantom        5820400.6704\n",
       "dtype: float64"
      ]
     },
     "execution_count": 60,
     "metadata": {},
     "output_type": "execute_result"
    }
   ],
   "source": [
    "subgraph_rev.sum()"
   ]
  },
  {
   "cell_type": "code",
   "execution_count": 61,
   "id": "e646a54a",
   "metadata": {},
   "outputs": [
    {
     "data": {
      "text/plain": [
       "119777815.21543603"
      ]
     },
     "execution_count": 61,
     "metadata": {},
     "output_type": "execute_result"
    }
   ],
   "source": [
    "subgraph_rev.sum().sum() / 2"
   ]
  },
  {
   "cell_type": "code",
   "execution_count": 28,
   "id": "950d0065",
   "metadata": {},
   "outputs": [
    {
     "data": {
      "text/html": [
       "<div>\n",
       "<style scoped>\n",
       "    .dataframe tbody tr th:only-of-type {\n",
       "        vertical-align: middle;\n",
       "    }\n",
       "\n",
       "    .dataframe tbody tr th {\n",
       "        vertical-align: top;\n",
       "    }\n",
       "\n",
       "    .dataframe thead th {\n",
       "        text-align: right;\n",
       "    }\n",
       "</style>\n",
       "<table border=\"1\" class=\"dataframe\">\n",
       "  <thead>\n",
       "    <tr style=\"text-align: right;\">\n",
       "      <th></th>\n",
       "      <th>totalDailyFeesUSD</th>\n",
       "    </tr>\n",
       "    <tr>\n",
       "      <th>timestamp</th>\n",
       "      <th></th>\n",
       "    </tr>\n",
       "  </thead>\n",
       "  <tbody>\n",
       "    <tr>\n",
       "      <th>2020-10-29</th>\n",
       "      <td>139380.2495</td>\n",
       "    </tr>\n",
       "    <tr>\n",
       "      <th>2020-11-05</th>\n",
       "      <td>295287.0187</td>\n",
       "    </tr>\n",
       "    <tr>\n",
       "      <th>2020-11-12</th>\n",
       "      <td>478040.1544</td>\n",
       "    </tr>\n",
       "    <tr>\n",
       "      <th>2020-11-19</th>\n",
       "      <td>366542.0986</td>\n",
       "    </tr>\n",
       "    <tr>\n",
       "      <th>2020-11-26</th>\n",
       "      <td>354029.4256</td>\n",
       "    </tr>\n",
       "    <tr>\n",
       "      <th>...</th>\n",
       "      <td>...</td>\n",
       "    </tr>\n",
       "    <tr>\n",
       "      <th>2022-07-07</th>\n",
       "      <td>689522.6594</td>\n",
       "    </tr>\n",
       "    <tr>\n",
       "      <th>2022-07-14</th>\n",
       "      <td>1061345.4180</td>\n",
       "    </tr>\n",
       "    <tr>\n",
       "      <th>2022-07-21</th>\n",
       "      <td>931444.2791</td>\n",
       "    </tr>\n",
       "    <tr>\n",
       "      <th>2022-07-28</th>\n",
       "      <td>927228.1667</td>\n",
       "    </tr>\n",
       "    <tr>\n",
       "      <th>2022-08-04</th>\n",
       "      <td>80547.2648</td>\n",
       "    </tr>\n",
       "  </tbody>\n",
       "</table>\n",
       "<p>93 rows × 1 columns</p>\n",
       "</div>"
      ],
      "text/plain": [
       "            totalDailyFeesUSD\n",
       "timestamp                    \n",
       "2020-10-29        139380.2495\n",
       "2020-11-05        295287.0187\n",
       "2020-11-12        478040.1544\n",
       "2020-11-19        366542.0986\n",
       "2020-11-26        354029.4256\n",
       "...                       ...\n",
       "2022-07-07        689522.6594\n",
       "2022-07-14       1061345.4180\n",
       "2022-07-21        931444.2791\n",
       "2022-07-28        927228.1667\n",
       "2022-08-04         80547.2648\n",
       "\n",
       "[93 rows x 1 columns]"
      ]
     },
     "execution_count": 28,
     "metadata": {},
     "output_type": "execute_result"
    }
   ],
   "source": []
  }
 ],
 "metadata": {
  "kernelspec": {
   "display_name": "Python 3 (ipykernel)",
   "language": "python",
   "name": "python3"
  },
  "language_info": {
   "codemirror_mode": {
    "name": "ipython",
    "version": 3
   },
   "file_extension": ".py",
   "mimetype": "text/x-python",
   "name": "python",
   "nbconvert_exporter": "python",
   "pygments_lexer": "ipython3",
   "version": "3.10.5"
  }
 },
 "nbformat": 4,
 "nbformat_minor": 5
}
